{
  "cells": [
    {
      "cell_type": "code",
      "execution_count": 1,
      "metadata": {
        "id": "EHpi0FLxpwD2"
      },
      "outputs": [],
      "source": [
        "import random\n",
        "import numpy as np"
      ]
    },
    {
      "cell_type": "code",
      "execution_count": 2,
      "metadata": {
        "id": "yaID2gxzqC3-"
      },
      "outputs": [],
      "source": [
        "idf = []\n",
        "tf = []\n",
        "tf_idf = []\n",
        "bag_of_words = []\n",
        "\n",
        "with open('/content/drive/MyDrive/Data/train-data.dat') as data:\n",
        "    for line in data:\n",
        "        tf_bag = [0 for _ in range(8520)]\n",
        "        bag = [0 for _ in range(8520)]\n",
        "        inline = line.strip().split()\n",
        "        for index, value in enumerate(inline):\n",
        "            if value[0] != '<':\n",
        "                bag[int(value)] += 1\n",
        "      \n",
        "        bag_of_words.append(bag)\n",
        "        \n",
        "        # compute tf\n",
        "        non_zero = np.count_nonzero(bag)\n",
        "        for index, value in enumerate(bag):\n",
        "          tf_bag[index] = value / non_zero\n",
        "        tf.append(tf_bag)\n",
        "\n",
        "np.array(bag_of_words)\n",
        "N = np.size(bag_of_words,0)\n",
        "M = np.size(bag_of_words,1)\n",
        "sum_d_t = (np.count_nonzero(bag_of_words, axis=0))\n",
        "\n",
        "# compute idf\n",
        "for i in range(M):\n",
        "    idf.append( np.log10( N / sum_d_t[i]) )\n",
        "\n",
        "tf = np.array(tf)\n",
        "idf = np.array(idf)\n",
        "\n",
        "# cumpute tf-idf\n",
        "tf_idf = tf * idf\n",
        "tf_idf = np.array(tf_idf)\n",
        "\n",
        "\n",
        "# tf_idf_mean\n",
        "tf_idf_mean = np.mean(tf_idf, axis = 0)\n",
        "max_fitness = (sum(tf_idf_mean))"
      ]
    },
    {
      "cell_type": "code",
      "source": [
        "class Individual(object):\n",
        "    def __init__(self, chromosome):\n",
        "        self.chromosome = chromosome\n",
        "        self.fitness = self.calculate_fitness()\n",
        "\n",
        "    @classmethod\n",
        "    def create_genome(self):\n",
        "        genome = np.random.randint(0, 1, size=8520)\n",
        "        rand_ones = random.randint(0, 8519)\n",
        "        for _ in range(rand_ones):\n",
        "            index = random.randint(0, 8519)\n",
        "            \n",
        "            while genome[index] == 1:\n",
        "                index = random.randint(0, 8519)\n",
        "            \n",
        "            genome[index] = 1\n",
        "    \n",
        "                \n",
        "        return genome\n",
        "\n",
        "    def genome_rejection(self):\n",
        "        while np.sum(self.chromosome) < 1000:\n",
        "            self.chromosome = self.create_genome()\n",
        "        \n",
        "        return self.chromosome\n",
        "\n",
        "\n",
        "    def repair_genome(self):\n",
        "\n",
        "        non_zeros = np.sum(self.chromosome)\n",
        "        \n",
        "        while non_zeros < 1000:  \n",
        "            difference = 1000 - non_zeros\n",
        "            for _ in range(difference):\n",
        "                self.chromosome[random.randint(0, 8519)] = 1\n",
        "\n",
        "            non_zeros = np.sum(self.chromosome)\n",
        "        \n",
        "        return self.chromosome\n",
        "\n",
        "    \n",
        "    def calculate_fitness(self):\n",
        "        global max_fitness\n",
        "        global tf_idf_mean\n",
        "\n",
        "        fitness = 0\n",
        "        for index, gene in enumerate(self.chromosome):\n",
        "            if gene == 1:\n",
        "                fitness += tf_idf_mean[index]\n",
        "\n",
        "        if np.count_nonzero(self.chromosome) > 2000:\n",
        "            percentage = ((np.count_nonzero(self.chromosome) // 100) / 100)\n",
        "            fitness -= percentage * max_fitness\n",
        "\n",
        "        return fitness"
      ],
      "metadata": {
        "id": "tLCbFWkk_a9s"
      },
      "execution_count": 3,
      "outputs": []
    },
    {
      "cell_type": "code",
      "execution_count": 146,
      "metadata": {
        "id": "R86tbz0Bp4yS"
      },
      "outputs": [],
      "source": [
        "def initialize_population(no_of_chromosomes):\n",
        "    population = []\n",
        "    for _ in range(no_of_chromosomes):\n",
        "        genome = Individual.create_genome()\n",
        "        genome = Individual(genome)\n",
        "        \n",
        "        #genome.genome_rejection()\n",
        "        genome.repair_genome()\n",
        "        \n",
        "        population.append(genome)  # population (list) consists Individual objects \n",
        "\n",
        "    return np.array(population)\n",
        "\n",
        "def roulette_wheel_selection(population: list):\n",
        "    \n",
        "    population_fitness = sum([chromosome.fitness for chromosome in population])\n",
        "    \n",
        "    s = 0\n",
        "    random_number = random.randint(0, int(population_fitness))\n",
        "    \n",
        "    for individual in population:\n",
        "        s += individual.fitness\n",
        "        if s >= random_number:\n",
        "            return individual\n",
        "\n",
        "def tournament_selection(population: list):\n",
        "    k = 5\n",
        "    selected_parents = []\n",
        "    for individual in range(k):\n",
        "        index = random.randint(0, len(population) - 1)\n",
        "        selected_parents.append(population[index])\n",
        "    \n",
        "    sorted_parents = sorted(selected_parents, key=lambda x: x.fitness, reverse = True)\n",
        "    first_parent, second_parent = sorted_parents[0], sorted_parents[1]\n",
        "\n",
        "    return first_parent, second_parent\n",
        "\n",
        "def single_point_crossover(first_parent, second_parent, point):\n",
        "    p1 = np.append(first_parent[:point], second_parent[point:])\n",
        "    p2 = np.append(second_parent[:point], first_parent[point:])\n",
        "\n",
        "    return p1, p2\n",
        "\n",
        "def mate(first_parent, second_parent, pivot_points):\n",
        "    points = random.sample(range(len(first_parent)), pivot_points)\n",
        "    sorted(points)\n",
        "    \n",
        "    for point in points:\n",
        "        first_parent, second_parent = single_point_crossover(first_parent, second_parent, point)\n",
        "    return first_parent, second_parent"
      ]
    },
    {
      "cell_type": "code",
      "execution_count": 145,
      "metadata": {
        "id": "2EDdN_y3qP7V",
        "colab": {
          "base_uri": "https://localhost:8080/"
        },
        "outputId": "02e93466-0c0c-4dbd-9cf4-84ff6104e76a"
      },
      "outputs": [
        {
          "output_type": "stream",
          "name": "stdout",
          "text": [
            "0.2748066178356974 0.2693306961508639\n"
          ]
        }
      ],
      "source": [
        "def main():\n",
        "    first_gen = initialize_population(100)\n",
        "    \n",
        "    #sorted_arr = sorted(first_gen, key=lambda x: x.fitness, reverse = True)\n",
        "    #for individual in sorted_arr:\n",
        "     #   print(f\"{individual.fitness: <20}\\t {np.count_nonzero(individual.chromosome)} genes\")\n",
        "\n",
        "    # for _ in range(2):\n",
        "    #     parent = roulette_wheel_selection(first_gen)\n",
        "    #     print(parent.fitness)\n",
        "\n",
        "    print(tournament_selection(first_gen)[0].fitness,tournament_selection(first_gen)[1].fitness)\n",
        "    \n",
        "if __name__ == '__main__':\n",
        "    main()\n"
      ]
    }
  ],
  "metadata": {
    "colab": {
      "collapsed_sections": [],
      "name": "Genetic  Algorithm.ipynb",
      "provenance": [],
      "mount_file_id": "1kO-jok7-8J5kdfGRDWn6wcGCcqp1mQhM",
      "authorship_tag": "ABX9TyOEA2773YNJArfYpqobqeuL"
    },
    "kernelspec": {
      "display_name": "Python 3",
      "name": "python3"
    },
    "language_info": {
      "name": "python"
    }
  },
  "nbformat": 4,
  "nbformat_minor": 0
}