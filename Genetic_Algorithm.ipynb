{
  "cells": [
    {
      "cell_type": "code",
      "execution_count": 205,
      "metadata": {
        "id": "EHpi0FLxpwD2"
      },
      "outputs": [],
      "source": [
        "import random\n",
        "import numpy as np"
      ]
    },
    {
      "cell_type": "code",
      "execution_count": null,
      "metadata": {
        "id": "yaID2gxzqC3-"
      },
      "outputs": [],
      "source": [
        "idf = []\n",
        "tf = []\n",
        "tf_idf = []\n",
        "bag_of_words = []\n",
        "count = 0\n",
        "with open('/content/drive/MyDrive/Data/train-data.dat') as data:\n",
        "    for line in data:\n",
        "        count += 1\n",
        "        tf_bag = [0 for _ in range(8520)]\n",
        "        bag = [0 for _ in range(8520)]\n",
        "        inline = line.strip().split()\n",
        "        for index, value in enumerate(inline):\n",
        "            if value[0] != '<':\n",
        "                bag[int(value)] += 1\n",
        "      \n",
        "        bag_of_words.append(bag)\n",
        "        \n",
        "        # compute tf\n",
        "        non_zero = np.count_nonzero(bag)\n",
        "        for index, value in enumerate(bag):\n",
        "          tf_bag[index] = value / non_zero\n",
        "        tf.append(tf_bag)\n",
        "        print(f'Data {count} completed!')\n",
        "\n",
        "# compute idf\n",
        "np.array(bag_of_words)\n",
        "N = np.size(bag_of_words,0)\n",
        "M = np.size(bag_of_words,1)\n",
        "sum_d_t = (np.count_nonzero(bag_of_words, axis=0))\n",
        "\n",
        "\n",
        "for i in range(M):  \n",
        "  idf.append( np.log10( N / sum_d_t[i]) )\n",
        "\n",
        "tf = np.array(tf)\n",
        "idf = np.array(idf)\n",
        "print(tf.shape)\n",
        "print(idf.shape)\n",
        "\n",
        "\n",
        "# cumpute tf-idf\n",
        "tf_idf = tf * idf\n",
        "\n",
        "tf_idf = np.array(tf_idf)\n",
        "print(tf_idf.shape)\n",
        "\n",
        "# tf_idf_mean\n",
        "tf_idf_mean = np.mean(tf_idf, axis = 0)"
      ]
    },
    {
      "cell_type": "code",
      "source": [
        "class Individual(object):\n",
        "    def __init__(self, chromosome):\n",
        "        self.chromosome = chromosome\n",
        "        self.fitness = self.calculate_fitness()\n",
        "\n",
        "    @classmethod\n",
        "    def create_genome(self):\n",
        "\n",
        "        genome = np.random.randint(0, 1, size=8520)\n",
        "        rand_ones = random.randint(0, 8519)\n",
        "        for _ in range(rand_ones):\n",
        "            genome[random.randint(0, 8519)] = 1\n",
        "        return genome\n",
        "\n",
        "    def genome_rejection(self):\n",
        "      while np.sum(self.chromosome) < 1000:\n",
        "        self.chromosome = self.create_genome()\n",
        "      return self.chromosome\n",
        "\n",
        "\n",
        "    def repair_genome(self):\n",
        "      non_zeros = np.sum(self.chromosome)\n",
        "      \n",
        "      while non_zeros < 1000:  \n",
        "        difference = 1000 - non_zeros\n",
        "        for _ in range(difference):\n",
        "            self.chromosome[random.randint(0, 8519)] = 1\n",
        "\n",
        "        non_zeros = np.sum(self.chromosome)\n",
        "      \n",
        "      return self.chromosome\n",
        "\n",
        "\n",
        "    def calculate_fitness(self):\n",
        "        global tf_idf_mean\n",
        "\n",
        "        fitness = 0\n",
        "        for index, gene in enumerate(self.chromosome):\n",
        "          if gene == 1:\n",
        "            fitness += tf_idf_mean[index]\n",
        "\n",
        "        return fitness"
      ],
      "metadata": {
        "id": "tLCbFWkk_a9s"
      },
      "execution_count": 274,
      "outputs": []
    },
    {
      "cell_type": "code",
      "execution_count": 275,
      "metadata": {
        "id": "R86tbz0Bp4yS"
      },
      "outputs": [],
      "source": [
        "def initialize_population(no_of_chromosomes):\n",
        "    population = []\n",
        "    for _ in range(no_of_chromosomes):\n",
        "        genome = Individual.create_genome()\n",
        "        genome = Individual(genome)\n",
        "        \n",
        "        #genome.genome_rejection()\n",
        "        genome.repair_genome()\n",
        "        \n",
        "        population.append(genome)\n",
        "\n",
        "    return np.array(population)"
      ]
    },
    {
      "cell_type": "code",
      "execution_count": 296,
      "metadata": {
        "id": "2EDdN_y3qP7V",
        "colab": {
          "base_uri": "https://localhost:8080/"
        },
        "outputId": "85519a43-efc3-44fc-8c8a-ca1b4aa84d22"
      },
      "outputs": [
        {
          "output_type": "stream",
          "name": "stdout",
          "text": [
            "  0.4617668513724692 \tNumber of genes: 1967\n",
            "  0.7510809890854054 \tNumber of genes: 3503\n",
            "  1.1260143543771262 \tNumber of genes: 5233\n",
            "  0.4578929335924628 \tNumber of genes: 2064\n",
            " 0.21240791788479985 \tNumber of genes: 1000\n",
            " 0.24894111179928488 \tNumber of genes: 1000\n",
            "  0.9824990738209629 \tNumber of genes: 4295\n",
            "  0.9952217281640351 \tNumber of genes: 4481\n",
            "  0.8060874739998868 \tNumber of genes: 3629\n",
            "  0.8165299190895785 \tNumber of genes: 3620\n"
          ]
        }
      ],
      "source": [
        "def main():\n",
        "    first_gen = initialize_population(10)\n",
        "    \n",
        "    for individual in first_gen:\n",
        "      print(f'{individual.fitness: >20} \\tNumber of genes: {np.count_nonzero(individual.chromosome)}')\n",
        "    \n",
        "\n",
        "if __name__ == '__main__':\n",
        "    main()\n"
      ]
    }
  ],
  "metadata": {
    "colab": {
      "collapsed_sections": [],
      "name": "Genetic  Algorithm.ipynb",
      "provenance": [],
      "mount_file_id": "1kO-jok7-8J5kdfGRDWn6wcGCcqp1mQhM",
      "authorship_tag": "ABX9TyMFLgPTu09Jb/OHZvU9heFm"
    },
    "kernelspec": {
      "display_name": "Python 3",
      "name": "python3"
    },
    "language_info": {
      "name": "python"
    }
  },
  "nbformat": 4,
  "nbformat_minor": 0
}