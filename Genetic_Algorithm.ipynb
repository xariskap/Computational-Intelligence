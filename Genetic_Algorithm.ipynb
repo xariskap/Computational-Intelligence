{
  "cells": [
    {
      "cell_type": "markdown",
      "metadata": {
        "id": "view-in-github",
        "colab_type": "text"
      },
      "source": [
        "<a href=\"https://colab.research.google.com/github/xariskap/Computational-Intelligence/blob/main/Genetic_Algorithm.ipynb\" target=\"_parent\"><img src=\"https://colab.research.google.com/assets/colab-badge.svg\" alt=\"Open In Colab\"/></a>"
      ]
    },
    {
      "cell_type": "code",
      "execution_count": 1,
      "metadata": {
        "id": "EHpi0FLxpwD2"
      },
      "outputs": [],
      "source": [
        "import random\n",
        "import numpy as np"
      ]
    },
    {
      "cell_type": "code",
      "execution_count": 2,
      "metadata": {
        "id": "yaID2gxzqC3-"
      },
      "outputs": [],
      "source": [
        "idf = []\n",
        "tf = []\n",
        "tf_idf = []\n",
        "bag_of_words = []\n",
        "\n",
        "with open('/content/drive/MyDrive/Data/train-data.dat') as data:\n",
        "    for line in data:\n",
        "        tf_bag = [0 for _ in range(8520)]\n",
        "        bag = [0 for _ in range(8520)]\n",
        "        inline = line.strip().split()\n",
        "        for index, value in enumerate(inline):\n",
        "            if value[0] != '<':\n",
        "                bag[int(value)] += 1\n",
        "      \n",
        "        bag_of_words.append(bag)\n",
        "        \n",
        "        # compute tf\n",
        "        non_zero = np.count_nonzero(bag)\n",
        "        for index, value in enumerate(bag):\n",
        "          tf_bag[index] = value / non_zero\n",
        "        tf.append(tf_bag)\n",
        "\n",
        "np.array(bag_of_words)\n",
        "N = np.size(bag_of_words,0)\n",
        "M = np.size(bag_of_words,1)\n",
        "sum_d_t = (np.count_nonzero(bag_of_words, axis=0))\n",
        "\n",
        "# compute idf\n",
        "for i in range(M):\n",
        "    idf.append( np.log10( N / sum_d_t[i]) )\n",
        "\n",
        "tf = np.array(tf)\n",
        "idf = np.array(idf)\n",
        "\n",
        "# cumpute tf-idf\n",
        "tf_idf = tf * idf\n",
        "tf_idf = np.array(tf_idf)\n",
        "\n",
        "\n",
        "# tf_idf_mean\n",
        "tf_idf_mean = np.mean(tf_idf, axis = 0)\n",
        "max_fitness = (sum(tf_idf_mean))"
      ]
    },
    {
      "cell_type": "code",
      "source": [
        "class Individual(object):\n",
        "    def __init__(self, chromosome):\n",
        "        self.chromosome = chromosome\n",
        "        self.fitness = self.calculate_fitness()\n",
        "\n",
        "    @classmethod\n",
        "    def create_genome(self):\n",
        "        genome = np.random.randint(0, 1, size=8520)\n",
        "        rand_ones = random.randint(0, 8519)\n",
        "        for _ in range(rand_ones):\n",
        "            index = random.randint(0, 8519)\n",
        "            \n",
        "            while genome[index] == 1:\n",
        "                index = random.randint(0, 8519)\n",
        "            \n",
        "            genome[index] = 1\n",
        "    \n",
        "                \n",
        "        return genome\n",
        "\n",
        "    def genome_rejection(self):\n",
        "        while np.sum(self.chromosome) < 1000:\n",
        "            self.chromosome = self.create_genome()\n",
        "        \n",
        "        return self.chromosome\n",
        "\n",
        "\n",
        "    def repair_genome(self):\n",
        "\n",
        "        non_zeros = np.sum(self.chromosome)\n",
        "        \n",
        "        while non_zeros < 1000:  \n",
        "            difference = 1000 - non_zeros\n",
        "            for _ in range(difference):\n",
        "                self.chromosome[random.randint(0, 8519)] = 1\n",
        "\n",
        "            non_zeros = np.sum(self.chromosome)\n",
        "        \n",
        "        return self.chromosome\n",
        "\n",
        "    \n",
        "    def calculate_fitness(self):\n",
        "        global max_fitness\n",
        "        global tf_idf_mean\n",
        "\n",
        "        fitness = 0\n",
        "        for index, gene in enumerate(self.chromosome):\n",
        "            if gene == 1:\n",
        "                fitness += tf_idf_mean[index]\n",
        "\n",
        "        if np.count_nonzero(self.chromosome) > 2000:\n",
        "            percentage = ((np.count_nonzero(self.chromosome) // 100) / 100)\n",
        "            fitness -= percentage * max_fitness\n",
        "\n",
        "        return fitness"
      ],
      "metadata": {
        "id": "tLCbFWkk_a9s"
      },
      "execution_count": 63,
      "outputs": []
    },
    {
      "cell_type": "code",
      "execution_count": 24,
      "metadata": {
        "id": "R86tbz0Bp4yS"
      },
      "outputs": [],
      "source": [
        "def initialize_population(no_of_chromosomes):\n",
        "    population = []\n",
        "    for _ in range(no_of_chromosomes):\n",
        "        genome = Individual.create_genome()\n",
        "        genome = Individual(genome)\n",
        "        \n",
        "        #genome.genome_rejection()\n",
        "        genome.repair_genome()\n",
        "        \n",
        "        population.append(genome)  # population (list) consists Individual objects \n",
        "\n",
        "    return np.array(population)"
      ]
    },
    {
      "cell_type": "code",
      "execution_count": null,
      "metadata": {
        "id": "2EDdN_y3qP7V"
      },
      "outputs": [],
      "source": [
        "def main():\n",
        "    first_gen = initialize_population(100)\n",
        "    \n",
        "    sorted_arr = sorted(first_gen, key=lambda x: x.fitness)\n",
        "    for individual in sorted_arr:\n",
        "        print(f\"{individual.fitness: <20}\\t {np.count_nonzero(individual.chromosome)} genes\")\n",
        "\n",
        "    \n",
        "if __name__ == '__main__':\n",
        "    main()\n"
      ]
    }
  ],
  "metadata": {
    "colab": {
      "collapsed_sections": [],
      "name": "Genetic  Algorithm.ipynb",
      "provenance": [],
      "mount_file_id": "1kO-jok7-8J5kdfGRDWn6wcGCcqp1mQhM",
      "authorship_tag": "ABX9TyNFAOrOBhzY1LbPRQ9HCb/T",
      "include_colab_link": true
    },
    "kernelspec": {
      "display_name": "Python 3",
      "name": "python3"
    },
    "language_info": {
      "name": "python"
    }
  },
  "nbformat": 4,
  "nbformat_minor": 0
}