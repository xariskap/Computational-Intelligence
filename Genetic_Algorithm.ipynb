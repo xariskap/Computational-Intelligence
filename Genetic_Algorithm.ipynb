{
  "cells": [
    {
      "cell_type": "markdown",
      "metadata": {
        "id": "view-in-github",
        "colab_type": "text"
      },
      "source": [
        "<a href=\"https://colab.research.google.com/github/xariskap/Computational-Intelligence/blob/main/Genetic_Algorithm.ipynb\" target=\"_parent\"><img src=\"https://colab.research.google.com/assets/colab-badge.svg\" alt=\"Open In Colab\"/></a>"
      ]
    },
    {
      "cell_type": "code",
      "execution_count": 1,
      "metadata": {
        "id": "EHpi0FLxpwD2"
      },
      "outputs": [],
      "source": [
        "import random\n",
        "import numpy as np"
      ]
    },
    {
      "cell_type": "code",
      "execution_count": 2,
      "metadata": {
        "id": "yaID2gxzqC3-"
      },
      "outputs": [],
      "source": [
        "idf = []\n",
        "tf = []\n",
        "tf_idf = []\n",
        "bag_of_words = []\n",
        "\n",
        "with open('/content/drive/MyDrive/Data/train-data.dat') as data:\n",
        "    for line in data:\n",
        "        tf_bag = [0 for _ in range(8520)]\n",
        "        bag = [0 for _ in range(8520)]\n",
        "        inline = line.strip().split()\n",
        "        for index, value in enumerate(inline):\n",
        "            if value[0] != '<':\n",
        "                bag[int(value)] += 1\n",
        "      \n",
        "        bag_of_words.append(bag)\n",
        "        \n",
        "        # compute tf\n",
        "        non_zero = np.count_nonzero(bag)\n",
        "        for index, value in enumerate(bag):\n",
        "          tf_bag[index] = value / non_zero\n",
        "        tf.append(tf_bag)\n",
        "\n",
        "np.array(bag_of_words)\n",
        "N = np.size(bag_of_words,0)\n",
        "M = np.size(bag_of_words,1)\n",
        "sum_d_t = (np.count_nonzero(bag_of_words, axis=0))\n",
        "\n",
        "# compute idf\n",
        "for i in range(M):\n",
        "    idf.append( np.log10( N / sum_d_t[i]) )\n",
        "\n",
        "tf = np.array(tf)\n",
        "idf = np.array(idf)\n",
        "\n",
        "# cumpute tf-idf\n",
        "tf_idf = tf * idf\n",
        "tf_idf = np.array(tf_idf)\n",
        "\n",
        "\n",
        "# tf_idf_mean\n",
        "tf_idf_mean = np.mean(tf_idf, axis = 0)\n",
        "max_fitness = (sum(tf_idf_mean))"
      ]
    },
    {
      "cell_type": "code",
      "source": [
        "class Individual(object):\n",
        "    def __init__(self, chromosome):\n",
        "        self.chromosome = chromosome\n",
        "        self.fitness = self.calculate_fitness()\n",
        "\n",
        "    @classmethod\n",
        "    def create_genome(self):\n",
        "        genome = np.random.randint(0, 1, size=8520)\n",
        "        rand_ones = random.randint(0, 8519)\n",
        "        for _ in range(rand_ones):\n",
        "            index = random.randint(0, 8519)\n",
        "            \n",
        "            while genome[index] == 1:\n",
        "                index = random.randint(0, 8519)\n",
        "            \n",
        "            genome[index] = 1\n",
        "    \n",
        "                \n",
        "        return genome\n",
        "\n",
        "\n",
        "    def repair_genome(self):\n",
        "\n",
        "        non_zeros = np.sum(self.chromosome)\n",
        "        \n",
        "        while non_zeros < 1000:  \n",
        "            difference = 1000 - non_zeros\n",
        "            for _ in range(difference):\n",
        "                self.chromosome[random.randint(0, 8519)] = 1\n",
        "\n",
        "            non_zeros = np.sum(self.chromosome)\n",
        "        \n",
        "        return self.chromosome\n",
        "\n",
        "    \n",
        "    def calculate_fitness(self):\n",
        "        global max_fitness\n",
        "        global tf_idf_mean\n",
        "\n",
        "        fitness = 0\n",
        "        for index, gene in enumerate(self.chromosome):\n",
        "            if gene == 1:\n",
        "                fitness += tf_idf_mean[index]\n",
        "\n",
        "        if np.count_nonzero(self.chromosome) > 2000:\n",
        "            percentage = ((np.count_nonzero(self.chromosome) // 100) / 100)\n",
        "            fitness -= percentage * max_fitness\n",
        "\n",
        "        return fitness"
      ],
      "metadata": {
        "id": "tLCbFWkk_a9s"
      },
      "execution_count": 118,
      "outputs": []
    },
    {
      "cell_type": "code",
      "execution_count": 110,
      "metadata": {
        "id": "R86tbz0Bp4yS"
      },
      "outputs": [],
      "source": [
        "def initialize_population(no_of_chromosomes):\n",
        "    population = []\n",
        "    for _ in range(no_of_chromosomes):\n",
        "        genome = Individual.create_genome()\n",
        "        genome = Individual(genome)\n",
        "        \n",
        "        #genome.genome_rejection()\n",
        "        genome.repair_genome()\n",
        "        \n",
        "        population.append(genome)  # population (list) consists Individual objects \n",
        "\n",
        "    return np.array(population)\n",
        "\n",
        "# def roulette_wheel_selection(population: list):\n",
        "    \n",
        "#     population_fitness = sum([chromosome.fitness for chromosome in population])\n",
        "    \n",
        "#     s = 0\n",
        "#     random_number = random.randint(0, int(population_fitness))\n",
        "    \n",
        "#     for individual in population:\n",
        "#         s += individual.fitness\n",
        "#         if s >= random_number:\n",
        "#             return individual\n",
        "\n",
        "def tournament_selection(population: list):\n",
        "    k = 5\n",
        "    selected_parents = []\n",
        "    for individual in range(k):\n",
        "        index = random.randint(0, len(population) - 1)\n",
        "        selected_parents.append(population[index])\n",
        "    \n",
        "    sorted_parents = sorted(selected_parents, key=lambda x: x.fitness, reverse = True)\n",
        "    first_parent, second_parent = sorted_parents[0], sorted_parents[1]\n",
        "\n",
        "    return first_parent, second_parent\n",
        "\n",
        "def mate(papa: Individual, mama: Individual, p_cross):\n",
        "    # 2-point crossover\n",
        "    points = random.sample(range(len(mama.chromosome)), 2)\n",
        "    points = sorted(points)\n",
        "\n",
        "    papa_copy = papa.chromosome.copy()\n",
        "    mama_copy = mama.chromosome.copy()\n",
        "\n",
        "    if random.random() <= p_cross:\n",
        "        papa.chromosome[0:points[0]] = mama_copy[0:points[0]]\n",
        "        mama.chromosome[0:points[0]] = papa_copy[0:points[0]]\n",
        "        papa.chromosome[points[1]:] = mama_copy[points[1]:]\n",
        "        mama.chromosome[points[1]:] = papa_copy[points[1]:]\n",
        "\n",
        "    first_child, second_child = papa, mama\n",
        "    return first_child, second_child\n",
        "\n",
        "def mutate(child: Individual, p_mutate):\n",
        "    #if random.random() <= p_mutate:\n",
        "    no_to_mutate = (5 * len(child.chromosome)) // 100\n",
        "    for _ in range(no_to_mutate):\n",
        "        random_index = random.randint(0, 8519)\n",
        "        \n",
        "        child.chromosome[random_index] = int(not child.chromosome[random_index])\n",
        "\n",
        "    child.fitness = child.calculate_fitness()\n",
        "    return child\n"
      ]
    },
    {
      "cell_type": "code",
      "execution_count": 123,
      "metadata": {
        "id": "2EDdN_y3qP7V",
        "colab": {
          "base_uri": "https://localhost:8080/"
        },
        "outputId": "a9d9465f-6e17-40c8-b341-528c4f6c8cc5"
      },
      "outputs": [
        {
          "output_type": "stream",
          "name": "stdout",
          "text": [
            "0.2395827053506489\n",
            "0.2395827053506489\n"
          ]
        }
      ],
      "source": [
        "def main():\n",
        "    first_gen = initialize_population(100)\n",
        "    \n",
        "    #sorted_arr = sorted(first_gen, key=lambda x: x.fitness, reverse = True)\n",
        "    #for individual in sorted_arr:\n",
        "     #   print(f\"{individual.fitness: <20}\\t {np.count_nonzero(individual.chromosome)} genes\")\n",
        "\n",
        "\n",
        "    papa, mama = tournament_selection(first_gen)\n",
        "\n",
        "    boy, girl  = mate(papa,mama,1)\n",
        "    print(boy.fitness)\n",
        "    print()\n",
        "\n",
        "    \n",
        "\n",
        "if __name__ == '__main__':\n",
        "    main()\n"
      ]
    },
    {
      "cell_type": "code",
      "source": [
        ""
      ],
      "metadata": {
        "id": "AHVxLcze5L9p"
      },
      "execution_count": null,
      "outputs": []
    }
  ],
  "metadata": {
    "colab": {
      "collapsed_sections": [],
      "name": "Genetic  Algorithm.ipynb",
      "provenance": [],
      "mount_file_id": "1kO-jok7-8J5kdfGRDWn6wcGCcqp1mQhM",
      "authorship_tag": "ABX9TyO42uVW5sTDfe8sl2dgRV7V",
      "include_colab_link": true
    },
    "kernelspec": {
      "display_name": "Python 3",
      "name": "python3"
    },
    "language_info": {
      "name": "python"
    }
  },
  "nbformat": 4,
  "nbformat_minor": 0
}