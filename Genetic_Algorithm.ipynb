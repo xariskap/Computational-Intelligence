{
  "cells": [
    {
      "cell_type": "markdown",
      "metadata": {
        "id": "view-in-github",
        "colab_type": "text"
      },
      "source": [
        "<a href=\"https://colab.research.google.com/github/xariskap/Computational-Intelligence/blob/main/Genetic_Algorithm.ipynb\" target=\"_parent\"><img src=\"https://colab.research.google.com/assets/colab-badge.svg\" alt=\"Open In Colab\"/></a>"
      ]
    },
    {
      "cell_type": "code",
      "execution_count": 1,
      "metadata": {
        "id": "EHpi0FLxpwD2"
      },
      "outputs": [],
      "source": [
        "import random\n",
        "import numpy as np"
      ]
    },
    {
      "cell_type": "code",
      "execution_count": 2,
      "metadata": {
        "id": "uY_0oF63p1qn"
      },
      "outputs": [],
      "source": [
        "class Individual(object):\n",
        "    def __init__(self, chromosome):\n",
        "        self.chromosome = chromosome\n",
        "        self.fitness = self.calculate_fitness()\n",
        "\n",
        "    @classmethod\n",
        "    def create_genome(self):\n",
        "\n",
        "        genome = np.random.randint(0, 1, size=8520)\n",
        "        rand_ones = random.randint(0, 8519)\n",
        "        for _ in range(rand_ones):\n",
        "            genome[random.randint(0, 8519)] = 1\n",
        "        return genome\n",
        "\n",
        "    def calculate_fitness(self):\n",
        "        return 0"
      ]
    },
    {
      "cell_type": "code",
      "execution_count": null,
      "metadata": {
        "id": "yaID2gxzqC3-"
      },
      "outputs": [],
      "source": [
        "idf = []\n",
        "tf = []\n",
        "tf_idf = []\n",
        "bag_of_words = []\n",
        "count = 0\n",
        "with open('/content/drive/MyDrive/Data/train-data.dat') as data:\n",
        "    for line in data:\n",
        "        count += 1\n",
        "        tf_bag = [0 for _ in range(8520)]\n",
        "        bag = [0 for _ in range(8520)]\n",
        "        inline = line.strip().split()\n",
        "        for index, value in enumerate(inline):\n",
        "            if value[0] != '<':\n",
        "                bag[int(value)] += 1\n",
        "      \n",
        "        bag_of_words.append(bag)\n",
        "        \n",
        "        # compute tf\n",
        "        non_zero = np.count_nonzero(bag)\n",
        "        for index, value in enumerate(bag):\n",
        "          tf_bag[index] = value / non_zero\n",
        "        tf.append(tf_bag)\n",
        "        print(f'Data {count} completed!')\n",
        "\n",
        "# compute idf\n",
        "np.array(bag_of_words)\n",
        "N = np.size(bag_of_words,0)\n",
        "M = np.size(bag_of_words,1)\n",
        "sum_d_t = (np.count_nonzero(bag_of_words, axis=0))\n",
        "\n",
        "\n",
        "for i in range(M):  \n",
        "  idf.append( np.log10( N / sum_d_t[i]) )\n",
        "\n",
        "tf = np.array(tf)\n",
        "idf = np.array(idf)\n",
        "print(tf.shape)\n",
        "print(idf.shape)\n",
        "\n",
        "\n",
        "# cumpute tf-idf\n",
        "tf_idf = tf * idf\n",
        "\n",
        "tf_idf = np.array(tf_idf)\n",
        "print(tf_idf.shape)"
      ]
    },
    {
      "cell_type": "code",
      "execution_count": 196,
      "metadata": {
        "colab": {
          "base_uri": "https://localhost:8080/"
        },
        "id": "Kw1XTg8L0cbj",
        "outputId": "8f3351a0-587b-4fa4-ffe5-ea411237b6c7"
      },
      "outputs": [
        {
          "output_type": "stream",
          "name": "stdout",
          "text": [
            "1.8991174046676367\n"
          ]
        }
      ],
      "source": [
        "# tf_idf_mean\n",
        "tf_idf_mean = np.mean(tf_idf, axis = 0)\n",
        "print(sum(x))"
      ]
    },
    {
      "cell_type": "code",
      "execution_count": 5,
      "metadata": {
        "id": "R86tbz0Bp4yS"
      },
      "outputs": [],
      "source": [
        "def genome_rejection(genome: Individual):\n",
        "    while np.sum(genome) < 1000:\n",
        "        genome = Individual.create_genome()\n",
        "    return genome\n",
        "\n",
        "\n",
        "def repair_genome(genome: Individual):\n",
        "    nnz = np.sum(genome)\n",
        "    while nnz < 1000:\n",
        "        difference = 1000 - nnz\n",
        "        for _ in range(difference):\n",
        "            genome[random.randint(0, 8519)] = 1\n",
        "        nnz = np.sum(genome)\n",
        "    return genome\n",
        "\n",
        "\n",
        "def initialize_population(no_of_chromosomes):\n",
        "    population = []\n",
        "    for _ in range(no_of_chromosomes):\n",
        "        genome = Individual.create_genome()\n",
        "        # genome = genome_rejection(genome)\n",
        "        genome = repair_genome(genome)\n",
        "        population.append(genome)\n",
        "\n",
        "    return np.array(population)"
      ]
    },
    {
      "cell_type": "code",
      "execution_count": 204,
      "metadata": {
        "id": "2EDdN_y3qP7V",
        "colab": {
          "base_uri": "https://localhost:8080/"
        },
        "outputId": "776e930a-3dab-4088-c878-a88af9ff5d4c"
      },
      "outputs": [
        {
          "output_type": "stream",
          "name": "stdout",
          "text": [
            "4933\n",
            "1.0869850601095699\n"
          ]
        }
      ],
      "source": [
        "def main():\n",
        "    first_gen = initialize_population(1)\n",
        "    laka = np.count_nonzero(first_gen)\n",
        "    print(laka)\n",
        "    calc = 0\n",
        "    cnt = 0\n",
        "    for inx,gene in enumerate(first_gen[0]):\n",
        "      if gene == 1:\n",
        "        calc += tf_idf_mean[inx]\n",
        "      \n",
        "    print(calc)\n",
        "\n",
        "    \n",
        "\n",
        "\n",
        "if __name__ == '__main__':\n",
        "    main()\n"
      ]
    }
  ],
  "metadata": {
    "colab": {
      "collapsed_sections": [],
      "name": "Genetic  Algorithm.ipynb",
      "provenance": [],
      "mount_file_id": "1kO-jok7-8J5kdfGRDWn6wcGCcqp1mQhM",
      "authorship_tag": "ABX9TyMX5ecQDp6zIh8vfSStTLgk",
      "include_colab_link": true
    },
    "kernelspec": {
      "display_name": "Python 3",
      "name": "python3"
    },
    "language_info": {
      "name": "python"
    }
  },
  "nbformat": 4,
  "nbformat_minor": 0
}